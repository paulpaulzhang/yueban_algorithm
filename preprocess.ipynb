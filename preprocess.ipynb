{
 "cells": [
  {
   "cell_type": "code",
   "execution_count": 9,
   "metadata": {},
   "outputs": [],
   "source": [
    "def find_word_indexes(i, text, word):\n",
    "    # 使用find()函数查找给定单词在文本中的开始下标\n",
    "    start_index = text.find(word)\n",
    "    \n",
    "    # 如果单词不在文本中，则返回空列表\n",
    "    if start_index == -1:\n",
    "        print(text, word, f\"{i} 标注错误，请检查\")\n",
    "        return []\n",
    "\n",
    "    # 计算单词结束的下标\n",
    "    end_index = start_index + len(word)\n",
    "\n",
    "    # 返回单词在文本中的开始和结束下标\n",
    "    return [start_index, end_index]"
   ]
  },
  {
   "cell_type": "code",
   "execution_count": 15,
   "metadata": {},
   "outputs": [],
   "source": [
    "import json\n",
    "dict_list = []\n",
    "# TODO time为空时不增加该字段数据\n",
    "with open(\"./todo_origin_data/data.jsonl\", \"r\", encoding=\"utf8\") as f:\n",
    "    lines = f.readlines()\n",
    "    for i, line in enumerate(lines):\n",
    "        try:\n",
    "            json_tmp = json.loads(line)\n",
    "            text = json_tmp[\"text\"]\n",
    "            time = json_tmp[\"time\"]\n",
    "            todo = json_tmp[\"todo\"]\n",
    "            if time != \"\":\n",
    "                time_index = find_word_indexes(i, text, time)\n",
    "            todo_index = find_word_indexes(i, text, todo)\n",
    "            if time != \"\":\n",
    "                dict_data = {\"text\": json_tmp[\"text\"], \"label\": [[*time_index, \"time\"], [*todo_index, \"todo\"]]}\n",
    "            else:\n",
    "                dict_data = {\"text\": json_tmp[\"text\"], \"label\": [[*todo_index, \"todo\"]]}\n",
    "            dict_list.append(dict_data)\n",
    "        except:\n",
    "            print(line)\n",
    "\n",
    "with open(\"./todo_origin_data/todo_data_doccano.json\", \"w\", encoding=\"utf8\") as f:\n",
    "    for data_dict in dict_list:\n",
    "        try:\n",
    "            json_data = json.dumps(data_dict)\n",
    "            f.write(json_data + \"\\n\")\n",
    "        except:\n",
    "            print(data_dict)\n"
   ]
  },
  {
   "cell_type": "code",
   "execution_count": null,
   "metadata": {},
   "outputs": [],
   "source": []
  }
 ],
 "metadata": {
  "kernelspec": {
   "display_name": "base",
   "language": "python",
   "name": "python3"
  },
  "language_info": {
   "codemirror_mode": {
    "name": "ipython",
    "version": 3
   },
   "file_extension": ".py",
   "mimetype": "text/x-python",
   "name": "python",
   "nbconvert_exporter": "python",
   "pygments_lexer": "ipython3",
   "version": "3.10.6"
  },
  "orig_nbformat": 4,
  "vscode": {
   "interpreter": {
    "hash": "a7e6fa13d970822f1c4bf0089848538e2330195bb5b11435449233f6f926edf4"
   }
  }
 },
 "nbformat": 4,
 "nbformat_minor": 2
}
